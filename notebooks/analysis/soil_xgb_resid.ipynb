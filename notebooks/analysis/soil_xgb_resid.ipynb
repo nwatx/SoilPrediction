{
 "cells": [
  {
   "cell_type": "code",
   "execution_count": null,
   "id": "0",
   "metadata": {},
   "outputs": [],
   "source": [
    "import pandas as pd"
   ]
  },
  {
   "cell_type": "code",
   "execution_count": null,
   "id": "1",
   "metadata": {},
   "outputs": [],
   "source": [
    "df = pd.read_parquet(\"../../data/processed/merged_df.parquet\")\n",
    "df"
   ]
  },
  {
   "cell_type": "code",
   "execution_count": null,
   "id": "2",
   "metadata": {},
   "outputs": [],
   "source": [
    "import src.experiment.soil_xgboost as sx\n",
    "config = sx.SoilXGBoostConfig(stride=1, context_length=24 * 7, prediction_length=24, y_cols=['SWC_5', 'SWC_10', 'SWC_20', 'SWC_50'])\n",
    "X, y = sx.SoilXGBoostExperiment(df, config=config)()\n",
    "for target in config.y_cols:\n",
    "    y[target] = y[target] - X[target]\n",
    "\n"
   ]
  },
  {
   "cell_type": "code",
   "execution_count": null,
   "id": "3",
   "metadata": {},
   "outputs": [],
   "source": [
    "import numpy as np\n",
    "pd.DataFrame(y).describe()"
   ]
  },
  {
   "cell_type": "code",
   "execution_count": null,
   "id": "4",
   "metadata": {},
   "outputs": [],
   "source": [
    "import xgboost\n",
    "from sklearn.model_selection import TimeSeriesSplit\n",
    "from sklearn.metrics import root_mean_squared_error, mean_absolute_percentage_error\n",
    "from sklearn.preprocessing import StandardScaler\n",
    "from sklearn.linear_model import LinearRegression, Lasso\n",
    "from catboost import CatBoostRegressor\n",
    "tscv = TimeSeriesSplit()\n",
    "\n",
    "\n",
    "X = np.array(X)\n",
    "ss_x = StandardScaler()\n",
    "X = ss_x.fit_transform(X)\n",
    "\n",
    "y_ = np.array(y)\n",
    "y_ = y_[:, 0].reshape(-1, 1)\n",
    "ss_y = StandardScaler()\n",
    "y_ = ss_y.fit_transform(y_)\n",
    "\n",
    "fold_metrics = []\n",
    "predictions_list = []\n",
    "\n",
    "for i, (train_idx, test_idx) in enumerate(tscv.split(X)):\n",
    "    X_train, X_test = X[train_idx], X[test_idx]\n",
    "    y_train, y_test = y_[train_idx], y_[test_idx]\n",
    "    \n",
    "    # model = CatBoostRegressor(verbose=False)\n",
    "    # model = xgboost.XGBRegressor()\n",
    "    # model = LinearRegression()\n",
    "    model = Lasso(alpha=0.02)\n",
    "    model.fit(X_train, y_train)\n",
    "    \n",
    "    y_train_pred = model.predict(X_train)\n",
    "    y_pred = model.predict(X_test).reshape(-1, 1)\n",
    "    \n",
    "    # Calculate metrics: RMSE and MAPE\n",
    "    train_rmse = root_mean_squared_error(y_train, y_train_pred)\n",
    "    train_mape = mean_absolute_percentage_error(y_train, y_train_pred)\n",
    "    \n",
    "    rmse = root_mean_squared_error(y_test, y_pred)\n",
    "    mape_val = mean_absolute_percentage_error(y_test, y_pred)\n",
    "    # swc_20_mape = mean_absolute_percentage_error(y_test[:, 3], y_pred[:, 3])\n",
    "    baseline = root_mean_squared_error(y_test, np.zeros_like(y_test))\n",
    "    fold_metrics.append({\"fold\": i, \"RMSE\": rmse, \"MAPE\": mape_val})\n",
    "    print(f\"Fold {i} - Train RMSE: {train_rmse:.3f}, RMSE: {rmse}, baseline: {baseline}\")\n",
    "    \n",
    "    # Create a DataFrame for this fold using the original test indices as the time axis\n",
    "    df_fold = pd.DataFrame({\n",
    "        \"time\": test_idx,   # original indices of the test set\n",
    "        \"Actual\": y_test[:, 0],\n",
    "        \"Predicted\": y_pred[:, 0],\n",
    "    })\n",
    "    # Create a label for the facet that includes the fold number and metrics\n",
    "    fold_label = f\"Fold {i} (RMSE: {rmse:.2f}, MAPE: {mape_val:.2f})\"\n",
    "    df_fold[\"fold\"] = fold_label\n",
    "    \n",
    "    predictions_list.append(df_fold)"
   ]
  },
  {
   "cell_type": "code",
   "execution_count": null,
   "id": "5",
   "metadata": {},
   "outputs": [],
   "source": [
    "import plotly.express as px\n",
    "# Combine the DataFrames from all folds into one DataFrame\n",
    "df_all = pd.concat(predictions_list, ignore_index=True)\n",
    "\n",
    "# Melt the DataFrame to long format for plotting with Plotly Express\n",
    "df_long = pd.melt(df_all, id_vars=[\"fold\", \"time\"],\n",
    "                  value_vars=[\"Actual\", \"Predicted\"],\n",
    "                  var_name=\"Type\", value_name=\"Value\")\n",
    "\n",
    "# Create a faceted line chart: one row per fold\n",
    "fig = px.line(df_long, x=\"time\", y=\"Value\", color=\"Type\", facet_row=\"fold\",\n",
    "              title=\"Actual vs. Predicted Values per Fold (Time Series)\",\n",
    "              markers=True\n",
    "            )\n",
    "\n",
    "# Adjust the height of the figure based on the number of folds\n",
    "unique_folds = df_long[\"fold\"].nunique()\n",
    "fig.update_layout(height=200 * unique_folds)\n",
    "\n",
    "fig.show()"
   ]
  },
  {
   "cell_type": "code",
   "execution_count": null,
   "id": "6",
   "metadata": {},
   "outputs": [],
   "source": []
  }
 ],
 "metadata": {
  "kernelspec": {
   "display_name": "Python 3",
   "language": "python",
   "name": "python3"
  },
  "language_info": {
   "codemirror_mode": {
    "name": "ipython",
    "version": 2
   },
   "file_extension": ".py",
   "mimetype": "text/x-python",
   "name": "python",
   "nbconvert_exporter": "python",
   "pygments_lexer": "ipython2",
   "version": "2.7.6"
  }
 },
 "nbformat": 4,
 "nbformat_minor": 5
}
